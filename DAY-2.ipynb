{
 "cells": [
  {
   "cell_type": "code",
   "execution_count": 10,
   "id": "a375e95d-f262-43fc-95da-a9819f9254ab",
   "metadata": {},
   "outputs": [
    {
     "name": "stdin",
     "output_type": "stream",
     "text": [
      "enter any amount to withdraw: 250\n"
     ]
    },
    {
     "name": "stdout",
     "output_type": "stream",
     "text": [
      "insufficient balance\n"
     ]
    }
   ],
   "source": [
    "#ATM WITHDRAWAL VALIDATION\n",
    "amount=int(input(\"enter any amount to withdraw:\"))\n",
    "if amount<= 5000 and amount%100==0:\n",
    "    print(\"Allow withdraw\")\n",
    "else:\n",
    "    print(\"insufficient balance\")\n"
   ]
  },
  {
   "cell_type": "code",
   "execution_count": 18,
   "id": "4ec35160-bf07-49b0-8205-21de0a1e3296",
   "metadata": {},
   "outputs": [
    {
     "name": "stdin",
     "output_type": "stream",
     "text": [
      "enter any color green\n"
     ]
    },
    {
     "name": "stdout",
     "output_type": "stream",
     "text": [
      "you can go\n"
     ]
    }
   ],
   "source": [
    "#TRAFFIC LIGHT COLOR\n",
    "color=input(\"enter the signal color\")\n",
    "if color=='red':\n",
    "                 print(\"Stop immediately\")\n",
    "elif color=='yellow':\n",
    "                 print(\"Get ready to move\")\n",
    "else:\n",
    "                 print(\"you can go\")\n",
    "                "
   ]
  },
  {
   "cell_type": "code",
   "execution_count": 22,
   "id": "44408e60-341a-4559-aacf-e44d858f2bd9",
   "metadata": {},
   "outputs": [
    {
     "name": "stdin",
     "output_type": "stream",
     "text": [
      "enter any ticket value: 19\n"
     ]
    },
    {
     "name": "stdout",
     "output_type": "stream",
     "text": [
      "300\n"
     ]
    }
   ],
   "source": [
    "#MOVIE TICKET PRICING\n",
    "cus=int(input(\"enter any ticket value:\"))\n",
    "if cus<=12:\n",
    "    print(\"150\")\n",
    "elif cus>=12 and cus<=18:\n",
    "    print(\"200\")\n",
    "elif cus>=18:\n",
    "    print(\"300\")\n",
    "    "
   ]
  },
  {
   "cell_type": "code",
   "execution_count": 25,
   "id": "1ab83a3a-ad9f-4a83-8517-29e36cfd3af6",
   "metadata": {},
   "outputs": [
    {
     "name": "stdin",
     "output_type": "stream",
     "text": [
      "enter any value: 99\n"
     ]
    },
    {
     "name": "stdout",
     "output_type": "stream",
     "text": [
      "100 per extra:\n"
     ]
    }
   ],
   "source": [
    "#WAPP THAT TAKES THE NUMBER OF HOURS WORKED AND PRINTS THE OVERTIME PAY IF APPLICABLE\n",
    "hours=int(input(\"enter any value:\"))\n",
    "if  hours>=8:\n",
    "    print(\"100 per extra:\")\n",
    "else:\n",
    "    print(\"no overtime pay\")\n"
   ]
  },
  {
   "cell_type": "code",
   "execution_count": 32,
   "id": "2c4456a7-29ca-4c45-b632-6a6526800e1c",
   "metadata": {},
   "outputs": [
    {
     "name": "stdin",
     "output_type": "stream",
     "text": [
      "enter any amount: 1200\n"
     ]
    },
    {
     "name": "stdout",
     "output_type": "stream",
     "text": [
      "original bill: 1200\n",
      "discount: 120.0\n",
      "final_amount to pay: 1080.0\n"
     ]
    }
   ],
   "source": [
    "#WAPP THAT CALCULATES AND DISPLAYS THE FINAL AMOUNT AFTER DISCOUNT\n",
    "bill=int(input(\"enter any amount:\"))\n",
    "if bill>1000:\n",
    "    discount=bill*0.10\n",
    "elif bill>500:\n",
    "    discount=bill*0.05\n",
    "else:\n",
    "    discount=0\n",
    "final_amount=bill-discount\n",
    "print(\"original bill:\",bill)\n",
    "print(\"discount:\",discount)\n",
    "print(\"final_amount to pay:\",final_amount)"
   ]
  },
  {
   "cell_type": "code",
   "execution_count": 36,
   "id": "7894efe6-3e5e-4268-a223-f29cf5db8c6b",
   "metadata": {},
   "outputs": [
    {
     "name": "stdin",
     "output_type": "stream",
     "text": [
      "enter number of hours: 2\n"
     ]
    },
    {
     "name": "stdout",
     "output_type": "stream",
     "text": [
      "drink a glass of water\n"
     ]
    }
   ],
   "source": [
    "hours=int(input(\"enter number of hours:\"))\n",
    "if hours>=4:\n",
    "    print(\"your dehydrated! drick water now!\")\n",
    "elif hours>=2 and hours<=3:\n",
    "    print(\"drink a glass of water\")\n",
    "else:\n",
    "    print(\"your fine\")\n",
    "    \n"
   ]
  },
  {
   "cell_type": "code",
   "execution_count": 32,
   "id": "7b95b72b-341f-4d18-872c-1f2bc7eb5506",
   "metadata": {},
   "outputs": [
    {
     "name": "stdout",
     "output_type": "stream",
     "text": [
      "range(0, 1)\n",
      "<class 'range'>\n"
     ]
    }
   ],
   "source": [
    "#RANGE DATATYPE\n",
    "rg1=range(1)\n",
    "print(rg1)\n",
    "print(type(rg1))"
   ]
  },
  {
   "cell_type": "code",
   "execution_count": 5,
   "id": "09423fbf-c4aa-47fa-b3e5-f7608583c293",
   "metadata": {},
   "outputs": [
    {
     "name": "stdout",
     "output_type": "stream",
     "text": [
      "0\n",
      "1\n",
      "2\n",
      "3\n",
      "4\n",
      "5\n",
      "6\n",
      "7\n",
      "8\n",
      "9\n"
     ]
    }
   ],
   "source": [
    "for i in range(10):\n",
    "    print(i)"
   ]
  },
  {
   "cell_type": "code",
   "execution_count": 6,
   "id": "868c16d2-37b8-4c2a-b507-c8d9f864af13",
   "metadata": {},
   "outputs": [
    {
     "name": "stdout",
     "output_type": "stream",
     "text": [
      "1\n",
      "3\n",
      "5\n",
      "7\n",
      "9\n"
     ]
    }
   ],
   "source": [
    "for i in range(1,11,2):\n",
    "    print(i)"
   ]
  },
  {
   "cell_type": "code",
   "execution_count": 3,
   "id": "f745e75e-d9fa-4c33-8c99-9477a2c6b0ae",
   "metadata": {},
   "outputs": [
    {
     "name": "stdin",
     "output_type": "stream",
     "text": [
      "enter the integer value: 10\n"
     ]
    },
    {
     "name": "stdout",
     "output_type": "stream",
     "text": [
      "natural number from 1 to 10:\n",
      "0\n",
      "1\n",
      "2\n",
      "3\n",
      "4\n",
      "5\n",
      "6\n",
      "7\n",
      "8\n",
      "9\n"
     ]
    }
   ],
   "source": [
    "#NATURAL NUMBERS\n",
    "n=int(input(\"enter the integer value:\"))\n",
    "print(f\"natural number from 1 to {n}:\")\n",
    "for i in range(n):\n",
    "    print(i)\n",
    "    "
   ]
  },
  {
   "cell_type": "code",
   "execution_count": 4,
   "id": "e41753d4-ef98-43b3-a949-025bd31d77f4",
   "metadata": {},
   "outputs": [
    {
     "name": "stdin",
     "output_type": "stream",
     "text": [
      "enter the integer value: 10\n"
     ]
    },
    {
     "name": "stdout",
     "output_type": "stream",
     "text": [
      "natural number from 1 to 10:\n",
      "1\n",
      "2\n",
      "3\n",
      "4\n",
      "5\n",
      "6\n",
      "7\n",
      "8\n",
      "9\n",
      "10\n"
     ]
    }
   ],
   "source": [
    "n=int(input(\"enter the integer value:\"))\n",
    "print(f\"natural number from 1 to {n}:\")\n",
    "for i in range(1,n+1):\n",
    "    print(i)"
   ]
  },
  {
   "cell_type": "code",
   "execution_count": 12,
   "id": "8e7f7cd1-7ae5-4eb3-ba6c-8417cb2b935d",
   "metadata": {},
   "outputs": [
    {
     "name": "stdin",
     "output_type": "stream",
     "text": [
      "enter the integer value: 10\n"
     ]
    },
    {
     "name": "stdout",
     "output_type": "stream",
     "text": [
      "natural number from 1 to 10:\n",
      "10\n"
     ]
    }
   ],
   "source": [
    "#NATURAL NUMBERS\n",
    "n=int(input(\"enter the integer value:\"))\n",
    "for i in range():\n",
    "    print(i)"
   ]
  },
  {
   "cell_type": "code",
   "execution_count": 18,
   "id": "1c2e4b8f-ba06-4b5f-86a9-a134ab89b828",
   "metadata": {},
   "outputs": [
    {
     "name": "stdin",
     "output_type": "stream",
     "text": [
      "enter the integer value: 10\n"
     ]
    },
    {
     "name": "stdout",
     "output_type": "stream",
     "text": [
      "0\n",
      "2\n",
      "4\n",
      "6\n",
      "8\n",
      "10\n"
     ]
    }
   ],
   "source": [
    "n=int(input(\"enter the integer value:\"))\n",
    "for i in range(0,11,2):\n",
    "    if i%2==0:\n",
    "        print(i)"
   ]
  },
  {
   "cell_type": "code",
   "execution_count": 16,
   "id": "b990d6d0-9d7f-4664-ac45-7d481a45732a",
   "metadata": {},
   "outputs": [
    {
     "name": "stdin",
     "output_type": "stream",
     "text": [
      "enter any value: 10\n"
     ]
    },
    {
     "name": "stdout",
     "output_type": "stream",
     "text": [
      "10\n",
      "8\n",
      "6\n",
      "4\n",
      "2\n"
     ]
    }
   ],
   "source": [
    "#WAPP TO PRINT EVEN NUMBERS FROM N TO 1\n",
    "n=int(input(\"enter any value:\"))\n",
    "for i in range(n,0,-2):\n",
    "    print(i)"
   ]
  },
  {
   "cell_type": "code",
   "execution_count": 17,
   "id": "2bdaac59-12b4-4829-9378-b709d4de53e9",
   "metadata": {},
   "outputs": [
    {
     "name": "stdin",
     "output_type": "stream",
     "text": [
      "enter any value: 10\n"
     ]
    },
    {
     "name": "stdout",
     "output_type": "stream",
     "text": [
      "10\n",
      "8\n",
      "6\n",
      "4\n",
      "2\n"
     ]
    }
   ],
   "source": [
    "#WAPP TO PRINT EVEN NUMBERS FROM N TO 1\n",
    "n=int(input(\"enter any value:\"))\n",
    "for i in range(n,0,-1):\n",
    "    if i%2==0:\n",
    "        print(i)"
   ]
  },
  {
   "cell_type": "code",
   "execution_count": 19,
   "id": "141ff0c3-d355-443a-b628-3911e3db24d4",
   "metadata": {},
   "outputs": [
    {
     "name": "stdin",
     "output_type": "stream",
     "text": [
      "enter any value: 10\n"
     ]
    },
    {
     "name": "stdout",
     "output_type": "stream",
     "text": [
      "1\n",
      "3\n",
      "5\n",
      "7\n",
      "9\n"
     ]
    }
   ],
   "source": [
    "#WAPP TO PRINT ODD NUMBERS FROM 1 TO N\n",
    "n=int(input(\"enter any value:\"))\n",
    "for i in range(1,n+1):\n",
    "    if i%2!=0:\n",
    "        print(i)"
   ]
  },
  {
   "cell_type": "code",
   "execution_count": 24,
   "id": "b1f47cd4-c0ce-4d0e-9340-80fb998b1ee6",
   "metadata": {},
   "outputs": [
    {
     "name": "stdin",
     "output_type": "stream",
     "text": [
      "enter any value: 10\n"
     ]
    },
    {
     "name": "stdout",
     "output_type": "stream",
     "text": [
      "9\n",
      "7\n",
      "5\n",
      "3\n"
     ]
    }
   ],
   "source": [
    "#WAPP TO PRINT ODD NUMBERS FROM N TO 1\n",
    "n=int(input(\"enter any value:\"))\n",
    "for i in range(n,2,-1):\n",
    "    if i%2!=0:\n",
    "        print(i)"
   ]
  },
  {
   "cell_type": "code",
   "execution_count": 27,
   "id": "95c5ff1c-4d50-45a0-8689-cc76c276c814",
   "metadata": {},
   "outputs": [
    {
     "name": "stdin",
     "output_type": "stream",
     "text": [
      "enter any table: 5\n"
     ]
    },
    {
     "name": "stdout",
     "output_type": "stream",
     "text": [
      "5 * 1 = 5\n",
      "5 * 2 = 10\n",
      "5 * 3 = 15\n",
      "5 * 4 = 20\n",
      "5 * 5 = 25\n",
      "5 * 6 = 30\n",
      "5 * 7 = 35\n",
      "5 * 8 = 40\n",
      "5 * 9 = 45\n",
      "5 * 10 = 50\n"
     ]
    }
   ],
   "source": [
    "#WAPP  TO PRINT THE MULTIPLICATION OF N\n",
    "n=int(input(\"enter any table:\"))\n",
    "for i in range(1,11):\n",
    "    print(n,\"*\",i,\"=\",n*i)"
   ]
  },
  {
   "cell_type": "code",
   "execution_count": 30,
   "id": "76fdb2ee-caa8-4f07-8731-3ee9c3323f22",
   "metadata": {},
   "outputs": [
    {
     "name": "stdin",
     "output_type": "stream",
     "text": [
      "enter any table: 99\n"
     ]
    },
    {
     "name": "stdout",
     "output_type": "stream",
     "text": [
      "MULTIPLICATION TABLE OF 99:\n",
      "99x1=99\n",
      "99x2=198\n",
      "99x3=297\n",
      "99x4=396\n",
      "99x5=495\n",
      "99x6=594\n",
      "99x7=693\n",
      "99x8=792\n",
      "99x9=891\n",
      "99x10=990\n"
     ]
    }
   ],
   "source": [
    "n=int(input(\"enter any table:\"))\n",
    "print(f\"MULTIPLICATION TABLE OF {n}:\")\n",
    "for i in range(1,11):\n",
    "    print(f\"{n}x{i}={n*i}\")"
   ]
  },
  {
   "cell_type": "code",
   "execution_count": 4,
   "id": "5cb91974-8bc6-41f6-80f0-d3152981445e",
   "metadata": {},
   "outputs": [
    {
     "name": "stdin",
     "output_type": "stream",
     "text": [
      "enter any table: 9\n"
     ]
    },
    {
     "name": "stdout",
     "output_type": "stream",
     "text": [
      "9 * 10 = 90\n",
      "9 * 9 = 81\n",
      "9 * 8 = 72\n",
      "9 * 7 = 63\n",
      "9 * 6 = 54\n",
      "9 * 5 = 45\n",
      "9 * 4 = 36\n",
      "9 * 3 = 27\n",
      "9 * 2 = 18\n",
      "9 * 1 = 9\n"
     ]
    }
   ],
   "source": [
    "#WAPP  TO PRINT THE MULTIPLICATION OF N TO 1\n",
    "n=int(input(\"enter any table:\"))\n",
    "for i in range(10,0,-1):\n",
    "    print(n,\"*\",i,\"=\",n*i)"
   ]
  },
  {
   "cell_type": "code",
   "execution_count": null,
   "id": "adeb7d17-0c45-4e10-b7f6-8906b143f7a4",
   "metadata": {},
   "outputs": [],
   "source": []
  }
 ],
 "metadata": {
  "kernelspec": {
   "display_name": "Python 3 (ipykernel)",
   "language": "python",
   "name": "python3"
  },
  "language_info": {
   "codemirror_mode": {
    "name": "ipython",
    "version": 3
   },
   "file_extension": ".py",
   "mimetype": "text/x-python",
   "name": "python",
   "nbconvert_exporter": "python",
   "pygments_lexer": "ipython3",
   "version": "3.12.7"
  }
 },
 "nbformat": 4,
 "nbformat_minor": 5
}

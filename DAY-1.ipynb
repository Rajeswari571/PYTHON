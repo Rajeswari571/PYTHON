{
 "cells": [
  {
   "cell_type": "code",
   "execution_count": 1,
   "id": "1fdeed12-924e-47ca-b602-79c5bb22d6ea",
   "metadata": {},
   "outputs": [
    {
     "name": "stdin",
     "output_type": "stream",
     "text": [
      "enter a number: 4\n",
      "enter a number: 7\n"
     ]
    },
    {
     "name": "stdout",
     "output_type": "stream",
     "text": [
      "summation: 11\n"
     ]
    }
   ],
   "source": [
    "#WTPP TO FIND THE SUMMATION OF TWO NUMBERS WITH USER INPUT\n",
    "num1=int(input(\"enter a number:\"))\n",
    "num2=int(input(\"enter a number:\"))\n",
    "print(\"summation:\",num1+num2)"
   ]
  },
  {
   "cell_type": "code",
   "execution_count": 22,
   "id": "754f7f96-b929-4f3a-bb9d-76cb4fae3cb8",
   "metadata": {},
   "outputs": [
    {
     "name": "stdin",
     "output_type": "stream",
     "text": [
      "enter a integer: 9\n"
     ]
    },
    {
     "name": "stdout",
     "output_type": "stream",
     "text": [
      "digit\n",
      "digit\n"
     ]
    }
   ],
   "source": [
    "#WTPP TO FIND WHETHER IT IS A DIGIT OR NUMBER  WITH USER INPUT\n",
    "num=int(input(\"enter a integer:\"))\n",
    "if num>=-9 and num<=9:\n",
    "    print(\"digit\")\n",
    "else:\n",
    "    print(\"number\")\n",
    "res=\"digit\" if num>=-9 and num<=9 else\"number\"\n",
    "print(res)\n"
   ]
  },
  {
   "cell_type": "code",
   "execution_count": 23,
   "id": "1d053791-ddcb-4ffe-8365-4b75c478317b",
   "metadata": {},
   "outputs": [
    {
     "name": "stdin",
     "output_type": "stream",
     "text": [
      "enter a integer: 10\n"
     ]
    },
    {
     "name": "stdout",
     "output_type": "stream",
     "text": [
      " two digit number\n",
      " two digit number\n"
     ]
    }
   ],
   "source": [
    "#WTPP CHECK WHETHER IT IS A TWO DIGIT NUMBER OR NOT WITH USER INPUT\n",
    "num=int(input(\"enter a integer:\"))\n",
    "if num>=10 and num<=99 :\n",
    "    print(\" two digit number\")\n",
    "else:\n",
    "    print(\" not two digit number\")\n",
    "res=\" two digit number\" if num>=-99 and num<=99 else\" not two digit number\"\n",
    "print(res)"
   ]
  },
  {
   "cell_type": "code",
   "execution_count": 1,
   "id": "9648d010-355d-47a2-a665-86dba2fd1333",
   "metadata": {},
   "outputs": [
    {
     "name": "stdin",
     "output_type": "stream",
     "text": [
      "enter a integer: 689\n"
     ]
    },
    {
     "name": "stdout",
     "output_type": "stream",
     "text": [
      " three digit number\n",
      "three digit number\n"
     ]
    }
   ],
   "source": [
    "#WTPP CHECK WHETHER IT IS A THREE DIGIT NUMBER OR NOT WITH USER INPUT\n",
    "num=int(input(\"enter a integer:\"))\n",
    "if num>=100 and num<=999 :\n",
    "    print(\" three digit number\")\n",
    "else:\n",
    "    print(\" not three digit number\")\n",
    "res=\"three digit number\" if num>=100 and num<=999 else \"not three digit number\"\n",
    "print(res)"
   ]
  },
  {
   "cell_type": "code",
   "execution_count": 2,
   "id": "72e81ec8-0f62-4e69-bc85-d577b0e0fcb5",
   "metadata": {},
   "outputs": [
    {
     "name": "stdin",
     "output_type": "stream",
     "text": [
      "enter a integer: 999\n"
     ]
    },
    {
     "name": "stdout",
     "output_type": "stream",
     "text": [
      " not four digit number\n",
      " not four digit number\n"
     ]
    }
   ],
   "source": [
    "#WTPP CHECK WHETHER IT IS A FOUR DIGIT NUMBER OR NOT WITH USER INPUT\n",
    "num=int(input(\"enter a integer:\"))\n",
    "if num>=1000 and num<=9999 :\n",
    "    print(\" four digit number\")\n",
    "else:\n",
    "    print(\" not four digit number\")\n",
    "res=\" four digit number\" if num>=1000 and num<=9999 else\" not four digit number\"\n",
    "print(res)"
   ]
  },
  {
   "cell_type": "code",
   "execution_count": 21,
   "id": "3d3e31ee-39f1-4959-9a47-6c34ebff1bb7",
   "metadata": {},
   "outputs": [
    {
     "name": "stdin",
     "output_type": "stream",
     "text": [
      "enter a  first integer: 5\n",
      "enter a  second integer: 7\n"
     ]
    },
    {
     "name": "stdout",
     "output_type": "stream",
     "text": [
      "num2 is a largest number: 7\n",
      "num2\n"
     ]
    }
   ],
   "source": [
    "#WTPP FIND THE LARGEST NUMBER BY USING IF ELSE AND TERINARY WITH USER INPUT\n",
    "num1=int(input(\"enter a  first integer:\"))\n",
    "num2=int(input(\"enter a  second integer:\"))\n",
    "if num1>num2 :\n",
    "    print(\"num1 is a largest number:\",num1)\n",
    "else:\n",
    "    print(\"num2 is a largest number:\",num2)\n",
    "res=\"num1\" if num1>num2 else \"num2\"\n",
    "print(res)"
   ]
  },
  {
   "cell_type": "code",
   "execution_count": 3,
   "id": "5317e780-726f-4f2e-8624-5219ba0f066f",
   "metadata": {},
   "outputs": [
    {
     "name": "stdin",
     "output_type": "stream",
     "text": [
      "enter a  first integer: 5\n",
      "enter a  second integer: 8\n"
     ]
    },
    {
     "name": "stdout",
     "output_type": "stream",
     "text": [
      "num1 is a smallest number: 5\n",
      "num1\n"
     ]
    }
   ],
   "source": [
    "#WTPP FIND THE SMALLEST NUMBER BY USING IF ELSE AND TERINARY WITH USER INPUT\n",
    "num1=int(input(\"enter a  first integer:\"))\n",
    "num2=int(input(\"enter a  second integer:\"))\n",
    "if num1<num2 :\n",
    "    print(\"num1 is a smallest number:\",num1)\n",
    "else:\n",
    "    print(\"num2 is a smallest number:\",num2)\n",
    "res=\"num1\" if num1<num2 else \"num2\"\n",
    "print(res)"
   ]
  },
  {
   "cell_type": "code",
   "execution_count": 3,
   "id": "846add18-bf62-45b6-ba9e-50f48aafc362",
   "metadata": {},
   "outputs": [
    {
     "name": "stdin",
     "output_type": "stream",
     "text": [
      "enter a  first integer: 60\n",
      "enter a  second integer: 1000\n",
      "enter a third integer: 30\n"
     ]
    },
    {
     "name": "stdout",
     "output_type": "stream",
     "text": [
      "num2 is a largest number: 1000\n",
      "num2\n"
     ]
    }
   ],
   "source": [
    "#WTPP FIND THE THREE LARGEST NUMBER BY USING IF ELSE AND TERINARY WITH USER INPUT\n",
    "num1=int(input(\"enter a  first integer:\"))\n",
    "num2=int(input(\"enter a  second integer:\"))\n",
    "num3=int(input(\"enter a third integer:\"))\n",
    "if num1>num2 and num1>num3 :\n",
    "    print(\"num1 is a largest number:\",num1)\n",
    "elif num2>num3 and num2>num1 :\n",
    "    print(\"num2 is a largest number:\",num2)\n",
    "else:\n",
    "    print(\"num3 is a largest number:\",num3)\n",
    "res1=\"num1\" if num1>num2 and num1>num3 else \"num2\"\n",
    "res=\"num3\" if num3>num1 and num3>num2  else res1\n",
    "print(res) "
   ]
  },
  {
   "cell_type": "code",
   "execution_count": 4,
   "id": "18bda1f5-d314-42cf-b717-7bacc28b1c1d",
   "metadata": {},
   "outputs": [
    {
     "name": "stdin",
     "output_type": "stream",
     "text": [
      "enter a  first integer: 60\n",
      "enter a  second integer: 1000\n",
      "enter a third integer: 30\n"
     ]
    },
    {
     "name": "stdout",
     "output_type": "stream",
     "text": [
      "num3 is a smallest number: 30\n",
      "num3\n"
     ]
    }
   ],
   "source": [
    "#WTPP FIND THE THREE SMALLEST NUMBER BY USING IF ELSE AND TERINARY WITH USER INPUT\n",
    "num1=int(input(\"enter a  first integer:\"))\n",
    "num2=int(input(\"enter a  second integer:\"))\n",
    "num3=int(input(\"enter a third integer:\"))\n",
    "if num1<num2 and num1<num3 :\n",
    "    print(\"num1 is a smallest number:\",num1)\n",
    "elif num2<num3 and num2<num1 :\n",
    "    print(\"num2 is a smalest number:\",num2)\n",
    "else:\n",
    "    print(\"num3 is a smallest number:\",num3)\n",
    "res1=\"num1\" if num1<num2 and num1<num3 else \"num2\"\n",
    "res=\"num3\" if num3<num1 and num3<num2  else res1\n",
    "print(res) \n"
   ]
  },
  {
   "cell_type": "code",
   "execution_count": 5,
   "id": "3e205b66-cd75-41ed-aa90-371e22ea352a",
   "metadata": {},
   "outputs": [
    {
     "name": "stdin",
     "output_type": "stream",
     "text": [
      "enter a  first integer: 5\n",
      "enter a  second integer: 0\n",
      "enter a third integer: 10\n"
     ]
    },
    {
     "name": "stdout",
     "output_type": "stream",
     "text": [
      "num1 is a milddle number: 5\n",
      "num1\n"
     ]
    }
   ],
   "source": [
    "#WTPP FIND THE THREE MIDDILE NUMBER BY USING IF ELSE AND TERINARY WITH USER INPUT\n",
    "num1=int(input(\"enter a  first integer:\"))\n",
    "num2=int(input(\"enter a  second integer:\"))\n",
    "num3=int(input(\"enter a third integer:\"))\n",
    "if num1>num2 and num1<num3 or num1<num2 and num1>num3 :\n",
    "    print(\"num1 is a milddle number:\",num1)\n",
    "elif num2>num1 and num2<num3 or num2<num1 and num2>num3  :\n",
    "    print(\"num2 is a middle number:\",num2)\n",
    "else:\n",
    "    print(\"num3 is a middle number:\",num3)\n",
    "res1=\"num1\" if  num1>num2 and num1<num3 or num1<num2 and num1>num3 else \"num2\"\n",
    "res=\"num3\" if num3>num1 and num3<num2 or num3<num1 and num3>num2 else res1\n",
    "print(res) \n"
   ]
  },
  {
   "cell_type": "code",
   "execution_count": 8,
   "id": "143f7424-f687-42ea-89d6-450dfbf13811",
   "metadata": {},
   "outputs": [
    {
     "name": "stdin",
     "output_type": "stream",
     "text": [
      "enter any month: 22\n"
     ]
    },
    {
     "name": "stdout",
     "output_type": "stream",
     "text": [
      "not valid month\n"
     ]
    }
   ],
   "source": [
    "#WTPP CHECH WHETHER THE MONTH NUMBER IS VALID OR NOT VALID WITH USER INPUT\n",
    "month=int(input(\"enter any month:\"))\n",
    "if month<=12:\n",
    "    print(\"valid month\")\n",
    "else:\n",
    "    print(\"not valid month\")"
   ]
  },
  {
   "cell_type": "code",
   "execution_count": 1,
   "id": "b95925bd-002f-4e83-a2ce-fe19545a9885",
   "metadata": {},
   "outputs": [
    {
     "name": "stdin",
     "output_type": "stream",
     "text": [
      "enter any month: 3\n"
     ]
    },
    {
     "name": "stdout",
     "output_type": "stream",
     "text": [
      "31 days\n"
     ]
    }
   ],
   "source": [
    "#WAPP TO READ THE MONTH NUMBER AS INPUT FROM THE USER AND PRINT RESPECTIVE NO OF DAYS PRESENTIN THAT PERTICULAR MONTH\n",
    "m=int(input(\"enter any month:\"))\n",
    "if m==1 or m==3 or m==5 or m==7 or m==8 or m==10 or m==12:\n",
    "    print(\"31 days\")\n",
    "elif m==4 or m==6  or m==9 or m==11:\n",
    "    print(\"30 days\")\n",
    "else:\n",
    "    print(\"28 days\")"
   ]
  },
  {
   "cell_type": "code",
   "execution_count": 4,
   "id": "6981b867-ebb0-47c1-81fb-30b42739e1fa",
   "metadata": {},
   "outputs": [
    {
     "name": "stdin",
     "output_type": "stream",
     "text": [
      "enter the any value: 18\n"
     ]
    },
    {
     "name": "stdout",
     "output_type": "stream",
     "text": [
      "eligible\n"
     ]
    }
   ],
   "source": [
    "#WAPP TO CHECK WHETHER THE USER ENTERED AGE IS ELIGIBLE TO VOTE OR NOT\n",
    "age=int(input(\"enter the any value:\"))\n",
    "if age>=18:\n",
    "    print(\"eligible\")\n",
    "else:\n",
    "    print(\"not eligible\")"
   ]
  },
  {
   "cell_type": "code",
   "execution_count": 6,
   "id": "0bb3b58c-c474-4270-a372-22d5ac84ee30",
   "metadata": {},
   "outputs": [
    {
     "name": "stdin",
     "output_type": "stream",
     "text": [
      "enter the any value: 2967893\n"
     ]
    },
    {
     "name": "stdout",
     "output_type": "stream",
     "text": [
      "odd\n"
     ]
    }
   ],
   "source": [
    "#WAPP TO CHECK WHETHER THE USER ENTERED AS NUMBER IS EVEN  OR ODD\n",
    "n=int(input(\"enter the any value:\"))\n",
    "if n%2==0:\n",
    "    print(\"even\")\n",
    "else:\n",
    "    print(\"odd\")"
   ]
  },
  {
   "cell_type": "code",
   "execution_count": 10,
   "id": "526a8d19-0573-4f34-82f9-8855326c9e8c",
   "metadata": {},
   "outputs": [
    {
     "name": "stdin",
     "output_type": "stream",
     "text": [
      "enter the any value: 256\n"
     ]
    },
    {
     "name": "stdout",
     "output_type": "stream",
     "text": [
      " not multiple with both 3 and 5\n"
     ]
    }
   ],
   "source": [
    "#WAPP TO READ A INTEGER VALUE AS A INPUT FROM THE USER AND CHECK WHETHER IT IS MULTIPLE WITH 3 AND 5 OR NOT\n",
    "n=int(input(\"enter the any value:\"))\n",
    "if n%3==0 and n%5==0:\n",
    "    print(\"multiple with both 3 and 5\")\n",
    "else:\n",
    "    print(\" not multiple with both 3 and 5\")"
   ]
  },
  {
   "cell_type": "code",
   "execution_count": 13,
   "id": "fc34337f-7e2c-424c-a432-3b83e59abfb5",
   "metadata": {},
   "outputs": [
    {
     "name": "stdin",
     "output_type": "stream",
     "text": [
      "enter the any value: 500\n"
     ]
    },
    {
     "name": "stdout",
     "output_type": "stream",
     "text": [
      "Buzz\n"
     ]
    }
   ],
   "source": [
    "#WAPP TO READ A INTEGER VALUE AS A INPUT FROM THE USER AND CHECK WHETHER IT IS FizzBuzz 3 AND 5 ,Fizz->3,Buzz->5\n",
    "n=int(input(\"enter the any value:\"))\n",
    "if n%3==0 and n%5==0:\n",
    "    print(\"FizzBuzz\")\n",
    "elif n%3==0:\n",
    "    print(\"Fizz\")\n",
    "else:\n",
    "    print(\"Buzz\")"
   ]
  },
  {
   "cell_type": "code",
   "execution_count": 15,
   "id": "adbd1ebb-6839-4ef1-a2e4-7b6cf62d75e2",
   "metadata": {},
   "outputs": [
    {
     "name": "stdin",
     "output_type": "stream",
     "text": [
      "enter any amount  1000\n"
     ]
    },
    {
     "name": "stdout",
     "output_type": "stream",
     "text": [
      "500->2\n",
      "200->0\n",
      "100>0\n",
      "50>0\n",
      "20->0\n",
      "10->0\n",
      "2>0\n",
      "5->0\n",
      "1->0\n"
     ]
    }
   ],
   "source": [
    "#WAPP TO READ AMOUNT AS THE INPUT FROM THE USER AND PRINT NO OF NOTES REQUIRES IN INDIA CURRENCY\n",
    "amount=int(input (\"enter any amount \"))\n",
    "print(f\"500->{amount//500}\")\n",
    "amount=amount%500\n",
    "print(f\"200->{amount//200}\")\n",
    "amount=amount%200\n",
    "print(f\"100>{amount//100}\")\n",
    "amount=amount%100\n",
    "print(f\"50>{amount//50}\")\n",
    "amount=amount%50\n",
    "print(f\"20->{amount//20}\")\n",
    "amount=amount%20\n",
    "print(f\"10->{amount//10}\")\n",
    "amount=amount%10\n",
    "print(f\"2>{amount//2}\")\n",
    "amount=amount%2\n",
    "print(f\"5->{amount//5}\")\n",
    "amount=amount%5\n",
    "print(f\"1->{amount//1}\")\n",
    "amount=amount%1\n",
    "\n"
   ]
  }
 ],
 "metadata": {
  "kernelspec": {
   "display_name": "Python 3 (ipykernel)",
   "language": "python",
   "name": "python3"
  },
  "language_info": {
   "codemirror_mode": {
    "name": "ipython",
    "version": 3
   },
   "file_extension": ".py",
   "mimetype": "text/x-python",
   "name": "python",
   "nbconvert_exporter": "python",
   "pygments_lexer": "ipython3",
   "version": "3.12.7"
  }
 },
 "nbformat": 4,
 "nbformat_minor": 5
}

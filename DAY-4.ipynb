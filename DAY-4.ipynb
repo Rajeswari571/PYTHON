{
 "cells": [
  {
   "cell_type": "code",
   "execution_count": 5,
   "id": "1e593403-6daa-4250-a667-e84c00dbb5c5",
   "metadata": {},
   "outputs": [
    {
     "name": "stdin",
     "output_type": "stream",
     "text": [
      "enter a string: rajeswari\n"
     ]
    },
    {
     "name": "stdout",
     "output_type": "stream",
     "text": [
      "j\n",
      "j $\n"
     ]
    }
   ],
   "source": [
    "#FIND NON-REPEATING WITH BREAK\n",
    "s=input(\"enter a string:\")\n",
    "x=\"\"\n",
    "for i in s:\n",
    "    if s.count(i)==1:\n",
    "        x+=i\n",
    "        break\n",
    "if x== \"\":\n",
    "    print(\"$\")\n",
    "else:\n",
    "    print(x)\n",
    "print(next(i for i in s if s.count(i)==1),\"$\")"
   ]
  },
  {
   "cell_type": "code",
   "execution_count": 16,
   "id": "c53cfb79-f35b-4228-a00d-5fb5bcd108ad",
   "metadata": {},
   "outputs": [
    {
     "name": "stdin",
     "output_type": "stream",
     "text": [
      "enter a string: qwerty\n"
     ]
    },
    {
     "name": "stdout",
     "output_type": "stream",
     "text": [
      "qwerty\n",
      "q $\n"
     ]
    }
   ],
   "source": [
    "#FIND NON-REPEATING WITH BREAK\n",
    "s=input(\"enter a string:\")\n",
    "x=\"\"\n",
    "for i in s:\n",
    "    if s.count(i)==1:\n",
    "        x+=i\n",
    "if x== \"\":\n",
    "    print(\"$\")\n",
    "else:\n",
    "    print(x)\n",
    "print(next(i for i in s if s.count(i)==1),\"$\")"
   ]
  },
  {
   "cell_type": "code",
   "execution_count": 8,
   "id": "7907e26d-2663-44e1-b3e6-f271555df6e5",
   "metadata": {},
   "outputs": [
    {
     "name": "stdin",
     "output_type": "stream",
     "text": [
      "enter a number miss\n"
     ]
    },
    {
     "name": "stdout",
     "output_type": "stream",
     "text": [
      "mis\n"
     ]
    }
   ],
   "source": [
    "#REMOVE THE DUPLICATES\n",
    "s=input(\"enter a number\")\n",
    "result =\"\"\n",
    "for char in s:\n",
    "    if char not in result:\n",
    "        result += char\n",
    "print(result)\n",
    "\n"
   ]
  },
  {
   "cell_type": "code",
   "execution_count": 19,
   "id": "1928dd68-5f32-48bf-b4c5-89694ccb3a0f",
   "metadata": {},
   "outputs": [
    {
     "name": "stdin",
     "output_type": "stream",
     "text": [
      "enter a number: python is very simple\n"
     ]
    },
    {
     "name": "stdout",
     "output_type": "stream",
     "text": [
      "longestword: python\n"
     ]
    }
   ],
   "source": [
    "text=input(\"enter a number:\")\n",
    "words=text.split()\n",
    "longest=max(words,key=len)\n",
    "print(\"longestword:\",longest)"
   ]
  },
  {
   "cell_type": "code",
   "execution_count": 1,
   "id": "0aec71c5-3d8f-400a-abd8-1678bdbbadf7",
   "metadata": {},
   "outputs": [
    {
     "name": "stdout",
     "output_type": "stream",
     "text": [
      "9\n",
      "25\n"
     ]
    }
   ],
   "source": [
    "#ADDTION USING RETURN \n",
    "def add(a,b):\n",
    "    return a+b\n",
    "print(add(4,5))\n",
    "res=add(10,15)\n",
    "print(res)\n"
   ]
  },
  {
   "cell_type": "code",
   "execution_count": 3,
   "id": "b273acd8-37ff-46e3-a28f-4c5fae9ea8a3",
   "metadata": {},
   "outputs": [
    {
     "name": "stdout",
     "output_type": "stream",
     "text": [
      "addition of x and y: 30\n",
      "substraction of x and y: -10\n",
      "multiplication of x and y: 200\n",
      "division of x and y: 0.5\n",
      "floor division of x and y: 0\n",
      "module of x and y: 10\n"
     ]
    }
   ],
   "source": [
    "#WAPP TO PERFORM ALL ARTHMETIC OPERATIONS USING FUNCTIONS\n",
    "def arithmetic_operations(x,y):\n",
    "    print(\"addition of x and y:\",x+y)\n",
    "    print(\"substraction of x and y:\",x-y)\n",
    "    print(\"multiplication of x and y:\",x*y)\n",
    "    print(\"division of x and y:\",x/y)\n",
    "    print(\"floor division of x and y:\",x//y)\n",
    "    print(\"module of x and y:\",x%y)\n",
    "arithmetic_operations(10,20)\n",
    "    "
   ]
  },
  {
   "cell_type": "code",
   "execution_count": 5,
   "id": "99fbb833-2d4d-4deb-876c-8beb37c36f81",
   "metadata": {},
   "outputs": [
    {
     "name": "stdout",
     "output_type": "stream",
     "text": [
      "python\n",
      "java\n",
      "sql\n",
      "r\n"
     ]
    }
   ],
   "source": [
    "#FUNCTION\n",
    "def display():\n",
    "    print(\"python\")\n",
    "    print(\"java\")\n",
    "    print(\"sql\")\n",
    "    print(\"r\")\n",
    "display()"
   ]
  },
  {
   "cell_type": "code",
   "execution_count": 9,
   "id": "b77611b9-6a5d-4373-9368-dcf6da430ecb",
   "metadata": {},
   "outputs": [
    {
     "name": "stdin",
     "output_type": "stream",
     "text": [
      "enter the size of list: 3\n",
      "enter the charater at index:0 apple\n",
      "enter the charater at index:1 banana\n",
      "enter the charater at index:2 coconut\n"
     ]
    },
    {
     "name": "stdout",
     "output_type": "stream",
     "text": [
      "user entered list: ['apple', 'banana', 'coconut']\n",
      "sorted list: ['apple', 'banana', 'coconut']\n"
     ]
    }
   ],
   "source": [
    "#WAPP TO READ THE SIZE OF LIST AS INPUT FROM THE USER AND READ THE LIST ELEMENT AS ALPHABETIC CHARACTERS AND PRINT THE USERS ENTERED LIST AND STORED VERSION OF THE USER ENTERED LIST\n",
    "size=int(input(\"enter the size of list:\"))\n",
    "chars=[]\n",
    "for i in range(size):\n",
    "    val=input(f\"enter the charater at index:{i}\")\n",
    "    chars.append(val)\n",
    "print(\"user entered list:\",chars)\n",
    "sorted_list=sorted(chars)\n",
    "print(\"sorted list:\",sorted_list)"
   ]
  },
  {
   "cell_type": "code",
   "execution_count": 11,
   "id": "3dd1b49a-bc47-47d0-9a77-ef22e5de3c74",
   "metadata": {},
   "outputs": [
    {
     "name": "stdout",
     "output_type": "stream",
     "text": [
      "Multiplication table of 4 \n",
      "\n",
      "4 x 1 = 4\n",
      "4 x 2 = 8\n",
      "4 x 3 = 12\n",
      "4 x 4 = 16\n",
      "4 x 5 = 20\n",
      "\n",
      "Multiplication table of 5 \n",
      "\n",
      "5 x 1 = 5\n",
      "5 x 2 = 10\n",
      "5 x 3 = 15\n",
      "5 x 4 = 20\n",
      "5 x 5 = 25\n",
      "\n"
     ]
    }
   ],
   "source": [
    "'''write a python program to print the multiplication\n",
    "table of n using functions.'''\n",
    "def table(n):\n",
    "    print(f\"Multiplication table of {n} \\n\")\n",
    "    for i in range(1,5+1):\n",
    "        print(f\"{n} x {i} = {n*i}\")\n",
    "    print()\n",
    "table(4)\n",
    "table(5)   "
   ]
  },
  {
   "cell_type": "code",
   "execution_count": 12,
   "id": "9e760713-93f9-4b88-8433-af72e84888cc",
   "metadata": {},
   "outputs": [
    {
     "name": "stdout",
     "output_type": "stream",
     "text": [
      "Simple Interest : 400.0\n"
     ]
    }
   ],
   "source": [
    "'''write a python program to calculate the simple\n",
    "interest by using a parameterized function.'''\n",
    "\n",
    "\n",
    "def cal_interest(amount,rateofinterest,time):\n",
    "    interest=(amount*rateofinterest*time)/100\n",
    "    print(f\"Simple Interest : {interest}\")\n",
    "cal_interest(10000,2,2)"
   ]
  },
  {
   "cell_type": "code",
   "execution_count": 15,
   "id": "3f24820b-297b-43f4-aaf8-6bc3742619ee",
   "metadata": {},
   "outputs": [
    {
     "name": "stdin",
     "output_type": "stream",
     "text": [
      "Enter the size of the list: 3\n",
      "Enter the element at {i} index : 9\n",
      "Enter the element at {i} index : 800\n",
      "Enter the element at {i} index : 900\n"
     ]
    },
    {
     "name": "stdout",
     "output_type": "stream",
     "text": [
      "User Entered List :\n",
      "[9, 800, 900]\n"
     ]
    }
   ],
   "source": [
    "'''write a python program to read the size of list\n",
    "as input from the user and read the list element\n",
    "as input from the user and print the user entered\n",
    "list.'''\n",
    "\n",
    "\n",
    "size=int(input(\"Enter the size of the list:\"))\n",
    "Num=[]\n",
    "for i in range(size):\n",
    "    val=int(input(\"Enter the element at {i} index :\"))\n",
    "    Num.append(val)\n",
    "print(\"User Entered List :\")\n",
    "print(Num)"
   ]
  }
 ],
 "metadata": {
  "kernelspec": {
   "display_name": "Python 3 (ipykernel)",
   "language": "python",
   "name": "python3"
  },
  "language_info": {
   "codemirror_mode": {
    "name": "ipython",
    "version": 3
   },
   "file_extension": ".py",
   "mimetype": "text/x-python",
   "name": "python",
   "nbconvert_exporter": "python",
   "pygments_lexer": "ipython3",
   "version": "3.12.7"
  }
 },
 "nbformat": 4,
 "nbformat_minor": 5
}

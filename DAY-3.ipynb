{
 "cells": [
  {
   "cell_type": "code",
   "execution_count": 1,
   "id": "16e629b5-4acb-4c6e-9a7c-4770dc876fa4",
   "metadata": {},
   "outputs": [
    {
     "name": "stdout",
     "output_type": "stream",
     "text": [
      "second maximum number: 30\n"
     ]
    }
   ],
   "source": [
    "#WAPP TO PRINT THE SECOND MAXIMUM NUMBER PRESENT IN THE LIST OF NUMBER\n",
    "list=[10,20,40,30]\n",
    "list.sort()\n",
    "second_maximum=list[-2]\n",
    "print(\"second maximum number:\",second_maximum)"
   ]
  },
  {
   "cell_type": "code",
   "execution_count": 2,
   "id": "3807b3ab-4dc0-4f25-8e95-77179d494b33",
   "metadata": {},
   "outputs": [
    {
     "name": "stdin",
     "output_type": "stream",
     "text": [
      "enter a number: 5\n"
     ]
    },
    {
     "name": "stdout",
     "output_type": "stream",
     "text": [
      "factorial of n is  120\n"
     ]
    }
   ],
   "source": [
    "#WAPP TO FIND FACTORIAL OF N\n",
    "n=int(input(\"enter a number:\"))\n",
    "fact=1\n",
    "for i in range(1,n+1):\n",
    "    fact=fact*i\n",
    "print(f\"factorial of n is  {fact}\")"
   ]
  },
  {
   "cell_type": "code",
   "execution_count": 8,
   "id": "c922e360-95d3-44c1-bd59-f28a1e319638",
   "metadata": {},
   "outputs": [
    {
     "name": "stdout",
     "output_type": "stream",
     "text": [
      "9\n",
      "9\n",
      "1\n",
      "45\n",
      "[1, 2, 3, 4, 5, 6, 7, 8, 9, 10]\n",
      "[1, 2, 3, 4, 5, 6, 7, 8, 10]\n",
      "[1, 2, 3, 4, 5, 6, 7, 8]\n",
      "[]\n",
      "[]\n"
     ]
    }
   ],
   "source": [
    "#WAPP TO PRINT A BUILD IN METHODS OF LIST\n",
    "l=[1,2,3,4,5,6,7,8,9]\n",
    "print(len(l))\n",
    "print(max(l))\n",
    "print(min(l))\n",
    "print(sum(l))\n",
    "l.append(10)\n",
    "print(l)\n",
    "l.remove(9)\n",
    "print(l)\n",
    "l.pop(8)\n",
    "print(l)\n",
    "l.clear()\n",
    "print(l)"
   ]
  },
  {
   "cell_type": "code",
   "execution_count": 6,
   "id": "7699b143-bdcc-4540-84ed-980299820370",
   "metadata": {},
   "outputs": [
    {
     "name": "stdout",
     "output_type": "stream",
     "text": [
      "[9, 8, 7, 6, 5, 4, 3, 2, 1]\n"
     ]
    }
   ],
   "source": [
    "l=[1,2,3,4,5,6,7,8,9]\n",
    "l.reverse()\n",
    "print(l)"
   ]
  },
  {
   "cell_type": "code",
   "execution_count": 7,
   "id": "591ab9b4-572f-427b-a21f-1debd439d3b7",
   "metadata": {},
   "outputs": [
    {
     "name": "stdout",
     "output_type": "stream",
     "text": [
      "[1, 2, 3, 4, 5, 6, 7, 8, 9]\n"
     ]
    }
   ],
   "source": [
    "l=[1,2,3,4,5,6,7,8,9]\n",
    "l.copy()\n",
    "print(l)"
   ]
  },
  {
   "cell_type": "code",
   "execution_count": 13,
   "id": "df17fab7-8155-4a53-a9fb-b0425f342ce4",
   "metadata": {},
   "outputs": [
    {
     "name": "stdin",
     "output_type": "stream",
     "text": [
      "enter the first value : 24\n",
      "enter the second value : 70\n"
     ]
    },
    {
     "name": "stdout",
     "output_type": "stream",
     "text": [
      "_______Operations Menu_______\n",
      "Addition\n",
      "Substraction\n",
      "Multiplication\n",
      "Division\n",
      "Exit\n"
     ]
    },
    {
     "name": "stdin",
     "output_type": "stream",
     "text": [
      "Enter your choice : 5\n"
     ]
    },
    {
     "name": "stdout",
     "output_type": "stream",
     "text": [
      "Thanks for using the Operations Menu\n"
     ]
    }
   ],
   "source": [
    "#write a python program to read two integer values as input from the user and perform the arthimetic operations based on following conditions.\n",
    "#1.Addition 2.Substraction 3.Multiplication 4.Division 5.Exit\n",
    "#Iterate the loop until the user chooses \n",
    "#he file to exit.'''\n",
    "\n",
    "\n",
    "a=int(input('enter the first value :'))\n",
    "b=int(input('enter the second value :'))\n",
    "while(True):\n",
    "    print(\"_______Operations Menu_______\")\n",
    "    print(\"Addition\")\n",
    "    print(\"Substraction\")\n",
    "    print(\"Multiplication\")\n",
    "    print(\"Division\")\n",
    "    print(\"Exit\")\n",
    "    choice=int(input('Enter your choice :'))\n",
    "    if(choice==1):\n",
    "        print(f\"Summation of {a},{b} is {a+b}\")\n",
    "        print()\n",
    "    elif(choice==2):\n",
    "        print(f\"Difference of{a},{b} is {a-b}\")\n",
    "        print()\n",
    "    elif(choice==3):\n",
    "        print(f\"Product of {a},{b} is{a*b}\")\n",
    "        print()\n",
    "    elif(choice==4):\n",
    "        print(f\"Quotient of {a},{b} is{a/b}\")\n",
    "        print()\n",
    "    elif(choice==5):\n",
    "        print(f\"Thanks for using the Operations Menu\")\n",
    "        break\n"
   ]
  },
  {
   "cell_type": "code",
   "execution_count": 9,
   "id": "5b162f43-9f71-4438-abc3-c67f5a7bc030",
   "metadata": {},
   "outputs": [
    {
     "name": "stdout",
     "output_type": "stream",
     "text": [
      "add: 7\n",
      "sub: -1\n",
      "mul: 12\n",
      "div: 0.75\n",
      "floor div: 0\n",
      "module: 3\n"
     ]
    }
   ],
   "source": [
    "#WAPP TO PERFORM ALL ARTHMETIC OPERATIONS USING FUNTIONS\n",
    "def arthmetic_operation(a,b):\n",
    "    print(\"add:\",a+b)\n",
    "    print(\"sub:\",a-b)\n",
    "    print(\"mul:\",a*b)\n",
    "    print(\"div:\",a/b) \n",
    "    print(\"floor div:\",a//b)\n",
    "    print(\"module:\",a%b)\n",
    "arthmetic_operation(3,4)\n"
   ]
  },
  {
   "cell_type": "code",
   "execution_count": 14,
   "id": "36c81efe-2b9d-44cd-9a42-0a551b19408f",
   "metadata": {},
   "outputs": [
    {
     "name": "stdout",
     "output_type": "stream",
     "text": [
      "Original List :[50, 40, 30, 20, 10]\n",
      "Length of List :5\n",
      "Maximum value :50\n",
      "Minimum value :10\n",
      "Summation :150\n",
      "Sorted :[10, 20, 30, 40, 50]\n",
      "True\n",
      "True\n"
     ]
    }
   ],
   "source": [
    "#WAPP TO BUILD IN FUNCTION FOR LIST\n",
    "list=[50,40,30,20,10]\n",
    "print(f'Original List :{list}')\n",
    "print(f'Length of List :{len(list)}')\n",
    "print(f'Maximum value :{max(list)}')\n",
    "print(f'Minimum value :{min(list)}')\n",
    "print(f'Summation :{sum(list)}')\n",
    "print(f'Sorted :{sorted(list)}')\n",
    "print(all(list))\n",
    "print(any(list))"
   ]
  },
  {
   "cell_type": "code",
   "execution_count": 15,
   "id": "28251678-be90-49c7-9894-b819dc52aa97",
   "metadata": {},
   "outputs": [
    {
     "name": "stdout",
     "output_type": "stream",
     "text": [
      "[12, 24, 36, 12, 24, 36, 12, 24, 36, 12, 24, 36]\n",
      "[12, 24, 36, 12, 24, 36, 12, 24, 36, 12, 24, 36, 12, 24, 36, 12, 24, 36, 12, 24, 36, 12, 24, 36, 12, 24, 36, 12, 24, 36]\n"
     ]
    }
   ],
   "source": [
    "#CONCATENATION AND REPATION\n",
    "a=[12,24,36]\n",
    "b=[48,60,72]\n",
    "print(a+a+a+a)\n",
    "print(a*10)"
   ]
  },
  {
   "cell_type": "code",
   "execution_count": 16,
   "id": "c8132bde-15b2-4f8f-b65c-6d357dbf2bbc",
   "metadata": {},
   "outputs": [
    {
     "name": "stdout",
     "output_type": "stream",
     "text": [
      "Concatenated list: [1, 4, 3, 2, 5, 6]\n",
      "Sorted list: [1, 2, 3, 4, 5, 6]\n"
     ]
    }
   ],
   "source": [
    "#WAPP TO DACLARE TWO LIST OF NUMBERS AND CONCATENATE THE GIVEN LIST AND SORT IT IN ASCENDING ORDER\n",
    "list1=[1,4,3]\n",
    "list2=[2,5,6]\n",
    "combined=list1+list2\n",
    "print(\"Concatenated list:\",combined)\n",
    "combined.sort()\n",
    "print(\"Sorted list:\",combined)"
   ]
  },
  {
   "cell_type": "code",
   "execution_count": 18,
   "id": "03846e57-de11-4f5d-add7-a513a67df255",
   "metadata": {},
   "outputs": [
    {
     "name": "stdin",
     "output_type": "stream",
     "text": [
      "Enter the value of n: 400\n"
     ]
    },
    {
     "name": "stdout",
     "output_type": "stream",
     "text": [
      "Digit count is3\n"
     ]
    }
   ],
   "source": [
    "#'''write a python program to print the count of digits present in the user entered number.'''\n",
    "n=int(input('Enter the value of n:'))\n",
    "digit_count=0\n",
    "while(n!=0):\n",
    "    n=n//10\n",
    "    digit_count+=1\n",
    "print(f\"Digit count is{digit_count}\")    "
   ]
  },
  {
   "cell_type": "code",
   "execution_count": 8,
   "id": "5e8ace84-1629-4b70-84c3-51716c1431e7",
   "metadata": {},
   "outputs": [
    {
     "name": "stdin",
     "output_type": "stream",
     "text": [
      "Enter the value of n: 996\n"
     ]
    },
    {
     "name": "stdout",
     "output_type": "stream",
     "text": [
      "Even Digit Count is 1\n",
      "Odd Digit Count is 2\n"
     ]
    }
   ],
   "source": [
    "#'''write a python program to print the count of  even digits and odd digits present in the user given number.'''\n",
    "n=int(input('Enter the value of n:'))\n",
    "even,odd=0,0\n",
    "while(n):\n",
    "    if n%2==0:\n",
    "        even+=1\n",
    "    else:\n",
    "        odd+=1\n",
    "    n=n//10\n",
    "print(f\"Even Digit Count is {even}\")\n",
    "print(f\"Odd Digit Count is {odd}\")"
   ]
  },
  {
   "cell_type": "code",
   "execution_count": 9,
   "id": "cc0f7e4d-92b5-48f5-9bae-8cefb89a1e77",
   "metadata": {},
   "outputs": [
    {
     "name": "stdout",
     "output_type": "stream",
     "text": [
      "Even Numbers count : 4\n",
      "Odd Numbers count : 3\n"
     ]
    }
   ],
   "source": [
    "'''write a python program to print the count of even\n",
    "numbers and odd numbers present in the list.'''\n",
    "\n",
    "\n",
    "\n",
    "num=[10,15,20,25,30,35,40]\n",
    "even_count=sum(1 for n in num if n%2==0)\n",
    "odd_count=sum(1 for n in num if n%2!=0)\n",
    "print(f\"Even Numbers count : {even_count}\")\n",
    "print(f\"Odd Numbers count : {odd_count}\")"
   ]
  },
  {
   "cell_type": "code",
   "execution_count": 13,
   "id": "07dee6e0-a444-494d-a64c-a7aeaa5eaa1a",
   "metadata": {},
   "outputs": [
    {
     "name": "stdout",
     "output_type": "stream",
     "text": [
      "['CSE', 'ECE', 'EEE', 'CIVIL', 'MECH', 'CSC']\n",
      "After Deletion Operation :\n",
      "['CSE', 'ECE', 'EEE', 'CIVIL', 'MECH']\n",
      "['CSE', 'ECE', 'CIVIL', 'MECH']\n"
     ]
    }
   ],
   "source": [
    "#WAPP TO PERFORM DELETE OPERATION\n",
    "branch=['CSE','ECE','EEE','CIVIL','MECH','CSC']\n",
    "print(branch)\n",
    "del branch[5]\n",
    "print('After Deletion Operation :')\n",
    "print(branch)\n",
    "del branch[2]\n",
    "print(branch)"
   ]
  },
  {
   "cell_type": "code",
   "execution_count": 14,
   "id": "97fff8ba-2f83-42c7-a1b5-3891b3f8c85f",
   "metadata": {},
   "outputs": [
    {
     "name": "stdout",
     "output_type": "stream",
     "text": [
      "[12, 24, 36, 48, 60, 72]\n"
     ]
    }
   ],
   "source": [
    "#EXTEND IN BUILD IN METHODS \n",
    "a=[12,24,36]\n",
    "b=[48,60,72]\n",
    "a.extend(b)\n",
    "print(a)"
   ]
  },
  {
   "cell_type": "code",
   "execution_count": 15,
   "id": "66597124-8350-479e-be32-0c0288d6df00",
   "metadata": {},
   "outputs": [
    {
     "name": "stdout",
     "output_type": "stream",
     "text": [
      "[10, 20, 30, 40, 50] <class 'list'>\n",
      "accessing the list elements using +ve indexing :\n",
      "10\n",
      "20\n",
      "30\n",
      "40\n",
      "50\n",
      "accessing the list elements using -ve indexing :\n",
      "10\n",
      "20\n",
      "30\n",
      "40\n",
      "50\n"
     ]
    }
   ],
   "source": [
    "#INDEXING \n",
    "num=[10,20,30,40,50]\n",
    "print(num,type(num))\n",
    "print(\"accessing the list elements using +ve indexing :\")\n",
    "print(num[0])\n",
    "print(num[1])\n",
    "print(num[2])\n",
    "print(num[3])\n",
    "print(num[4])\n",
    "print(\"accessing the list elements using -ve indexing :\")\n",
    "print(num[-5])\n",
    "print(num[-4])\n",
    "print(num[-3])\n",
    "print(num[-2])\n",
    "print(num[-1])"
   ]
  },
  {
   "cell_type": "code",
   "execution_count": 16,
   "id": "b843628d-26b1-45a5-bfd1-f5218fabb91c",
   "metadata": {},
   "outputs": [
    {
     "name": "stdout",
     "output_type": "stream",
     "text": [
      "[10, 20, 30]\n",
      "[5, 10, 20, 30]\n",
      "[5, 10, 20, 30, 40]\n"
     ]
    }
   ],
   "source": [
    "#INSERTING IN BULIT IN METHODS\n",
    "list=[10,20,30]\n",
    "print(list)\n",
    "list.insert(0,5)\n",
    "print(list)\n",
    "list.insert(4,40)\n",
    "print(list)"
   ]
  },
  {
   "cell_type": "code",
   "execution_count": 17,
   "id": "391bf5e5-427d-41c2-aace-96f06860835c",
   "metadata": {},
   "outputs": [
    {
     "name": "stdout",
     "output_type": "stream",
     "text": [
      "Maximum number: 84\n"
     ]
    }
   ],
   "source": [
    "'''write a python program to the maximum number \n",
    "present in the list of numbers.'''\n",
    "\n",
    "\n",
    "num=[10,50,77,84,39]\n",
    "print(\"Maximum number:\",max(num))"
   ]
  },
  {
   "cell_type": "code",
   "execution_count": 18,
   "id": "eda01151-0062-4dc4-8f58-51c4089fdcad",
   "metadata": {},
   "outputs": [
    {
     "name": "stdout",
     "output_type": "stream",
     "text": [
      "True\n",
      "False\n",
      "False\n",
      "True\n"
     ]
    }
   ],
   "source": [
    "#MEMBERSHIP OPERATIONS\n",
    "num=[10,20,30,40,50]\n",
    "print(10 in num)\n",
    "print(10 not in num)\n",
    "print(60 in num)\n",
    "str=\"Python\"\n",
    "print(\"Py\" in str)"
   ]
  },
  {
   "cell_type": "code",
   "execution_count": 20,
   "id": "ecc93b1c-b90c-48c4-8b83-7fb0f28b4136",
   "metadata": {},
   "outputs": [
    {
     "name": "stdout",
     "output_type": "stream",
     "text": [
      "______Guest List Menu______\n",
      "1.To view the Guest List\n",
      "2.To Add a Guest\n",
      "3.Check the guest is attending the party or not\n",
      "4.To Remove a Guest\n",
      "5.Print Finalized Guest List\n"
     ]
    },
    {
     "name": "stdin",
     "output_type": "stream",
     "text": [
      "Enter Your Choice : 4\n",
      "Enter the name of the guest who's not attending the party rajeswari\n"
     ]
    },
    {
     "name": "stdout",
     "output_type": "stream",
     "text": [
      "\n",
      "______Guest List Menu______\n",
      "1.To view the Guest List\n",
      "2.To Add a Guest\n",
      "3.Check the guest is attending the party or not\n",
      "4.To Remove a Guest\n",
      "5.Print Finalized Guest List\n"
     ]
    },
    {
     "name": "stdin",
     "output_type": "stream",
     "text": [
      "Enter Your Choice : 1\n"
     ]
    },
    {
     "name": "stdout",
     "output_type": "stream",
     "text": [
      "Guest List is Empty\n",
      "\n",
      "______Guest List Menu______\n",
      "1.To view the Guest List\n",
      "2.To Add a Guest\n",
      "3.Check the guest is attending the party or not\n",
      "4.To Remove a Guest\n",
      "5.Print Finalized Guest List\n"
     ]
    },
    {
     "name": "stdin",
     "output_type": "stream",
     "text": [
      "Enter Your Choice : 5\n"
     ]
    },
    {
     "name": "stdout",
     "output_type": "stream",
     "text": [
      "Finalized Guest List:\n",
      "\n",
      "[]\n"
     ]
    }
   ],
   "source": [
    "'''your friend is throughing a birthday party and she\n",
    "is confused about finalising the guests for the \n",
    "birthday party.\n",
    "write a simple program to organize the guest list\n",
    "where\n",
    "1.To view the guest list\n",
    "2.To add the guest\n",
    "3.To check the particular guest is attending the \n",
    "party or not\n",
    "4.Remove a guest from guest list\n",
    "5.To print the finalized guest list and exit.'''\n",
    "\n",
    "\n",
    "\n",
    "\n",
    "Guest_list=[]\n",
    "while(True):\n",
    "    print(\"______Guest List Menu______\")\n",
    "    print(\"1.To view the Guest List\")\n",
    "    print(\"2.To Add a Guest\")\n",
    "    print(\"3.Check the guest is attending the party or not\")\n",
    "    print(\"4.To Remove a Guest\")\n",
    "    print(\"5.Print Finalized Guest List\")\n",
    "    choice=int(input('Enter Your Choice :'))\n",
    "    if(choice==1):\n",
    "        if(len(Guest_list)==0):\n",
    "            print(\"Guest List is Empty\")\n",
    "        else:\n",
    "            print(\"Guest List :\")\n",
    "            print(Guest_list)\n",
    "        print()\n",
    "    elif(choice==2):\n",
    "        guest=input(\"Enter the Guest Name :\")\n",
    "        Guest_list.append(guest)\n",
    "        print(f\"{guest} is added to the guest list.....!\")\n",
    "        print()\n",
    "    elif(choice==3):\n",
    "        guest=input(\"Enter the guest name to check the status of the guest:\")\n",
    "        if guest in Guest_list:\n",
    "            print(f\"{guest} is Attending the party......!\")\n",
    "        else:\n",
    "            print(f\"{guest} is Not Attending the party......!\")\n",
    "        print()\n",
    "    elif(choice==4):\n",
    "        guest=input(\"Enter the name of the guest who's not attending the party\")\n",
    "        if guest in Guest_list:\n",
    "            Guest_list.remove(guest)\n",
    "            print(f\"{guest}'s name is removed from the guest list.....!\")\n",
    "        print()\n",
    "    elif(choice==5):\n",
    "        print(\"Finalized Guest List:\")\n",
    "        print()\n",
    "        print(Guest_list)\n",
    "        break"
   ]
  },
  {
   "cell_type": "code",
   "execution_count": 21,
   "id": "97691b96-9202-4419-958f-b78ad563b832",
   "metadata": {},
   "outputs": [
    {
     "name": "stdin",
     "output_type": "stream",
     "text": [
      "Enter the value of n : 666\n"
     ]
    },
    {
     "name": "stdout",
     "output_type": "stream",
     "text": [
      "Users given number is :666\n",
      "Reversed Number is 666\n",
      "Palindrome \n"
     ]
    }
   ],
   "source": [
    "'''write a python program to check the user entered\n",
    "integer is a palindrome number or not'''\n",
    "\n",
    "\n",
    "n=int(input(\"Enter the value of n :\"))\n",
    "temp=n\n",
    "rev=0\n",
    "print(f\"Users given number is :{n}\")\n",
    "while(n!=0):\n",
    "    rem=n%10\n",
    "    rev=rev*10+rem\n",
    "    n=n//10\n",
    "print(f\"Reversed Number is {rev}\")\n",
    "if (temp==rev):\n",
    "    print(\"Palindrome \")\n",
    "else:\n",
    "    print(\"Not a Palindrome\")"
   ]
  },
  {
   "cell_type": "code",
   "execution_count": 23,
   "id": "a672a926-9e05-4e96-8dc6-fcd11b92656b",
   "metadata": {},
   "outputs": [
    {
     "name": "stdout",
     "output_type": "stream",
     "text": [
      "[10, 20, 30, 40, 50]\n",
      "[10, 20, 30, 40]\n",
      "[10, 20, 30]\n",
      "[20, 30]\n"
     ]
    }
   ],
   "source": [
    "#POP IN BUILD IN METHOD\n",
    "list=[10,20,30,40,50]\n",
    "print(list)\n",
    "list.pop()\n",
    "print(list)\n",
    "list.pop()\n",
    "print(list)\n",
    "list.pop(0)\n",
    "print(list)"
   ]
  },
  {
   "cell_type": "code",
   "execution_count": 24,
   "id": "aa204b5d-768d-4b48-8ab3-369c1ab82d69",
   "metadata": {},
   "outputs": [
    {
     "name": "stdout",
     "output_type": "stream",
     "text": [
      "[10, 20, 30, 40, 50, 10]\n",
      "[20, 30, 40, 50, 10]\n",
      "[20, 30, 40, 50]\n"
     ]
    }
   ],
   "source": [
    "#REMOVE IN BUILT IN METHODS\n",
    "list=[10,20,30,40,50,10]\n",
    "print(list)\n",
    "list.remove(10)\n",
    "print(list)\n",
    "list.remove(10)\n",
    "print(list)"
   ]
  },
  {
   "cell_type": "code",
   "execution_count": 31,
   "id": "d61b33a9-f0b0-4409-855d-42abbc9dd095",
   "metadata": {},
   "outputs": [
    {
     "data": {
      "text/plain": [
       "'num=list(map(int,input(\\'Enter the numbers separated by space:\\').split()))\\npositive_numbers=[]\\nfor i in num:\\n    if i>=0:\\n        positive_numbers.append(i)\\nprint(\"List after removing negative numbers:\",positive_numbers)\\n\\nnum=[10,-5,20,-15,30,-25,40]\\nprint(num)\\npositive_numbers=[i for i in num if i>=0]\\nprint(\"List after removing negatives:\",positive_numbers)'"
      ]
     },
     "execution_count": 31,
     "metadata": {},
     "output_type": "execute_result"
    }
   ],
   "source": [
    "'''write a python program to remove the negative \n",
    "numbers the list of numbers.'''\n",
    "\n",
    "\n",
    "'''num=list(map(int,input('Enter the numbers separated by space:').split()))\n",
    "positive_numbers=[]\n",
    "for i in num:\n",
    "    if i>=0:\n",
    "        positive_numbers.append(i)\n",
    "print(\"List after removing negative numbers:\",positive_numbers)\n",
    "\n",
    "num=[10,-5,20,-15,30,-25,40]\n",
    "print(num)\n",
    "positive_numbers=[i for i in num if i>=0]\n",
    "print(\"List after removing negatives:\",positive_numbers)'''"
   ]
  },
  {
   "cell_type": "code",
   "execution_count": 32,
   "id": "bcafa36a-c52f-4b61-83a2-07a4aae1913b",
   "metadata": {},
   "outputs": [
    {
     "name": "stdout",
     "output_type": "stream",
     "text": [
      "[10, 20, 30, 40, 50]\n",
      "[50, 40, 30, 20, 10]\n"
     ]
    }
   ],
   "source": [
    "#WAPP REVERSE IN BULID IN METHODS \n",
    "list=[10,20,30,40,50]\n",
    "print(list)\n",
    "list.reverse()\n",
    "print(list)"
   ]
  },
  {
   "cell_type": "code",
   "execution_count": 33,
   "id": "22b5d840-cf47-4267-a597-504f08e17eed",
   "metadata": {},
   "outputs": [
    {
     "name": "stdin",
     "output_type": "stream",
     "text": [
      "Enter the value of n : 678\n"
     ]
    },
    {
     "name": "stdout",
     "output_type": "stream",
     "text": [
      "User entered number is 678\n",
      "Reversed Number is 876\n"
     ]
    }
   ],
   "source": [
    "#REVERSE OF ENTERED INTEGER.PY\n",
    "'''write a python program to read an integer value\n",
    "as input from user and print reverse of it'''\n",
    "\n",
    "\n",
    "n=int(input('Enter the value of n :'))\n",
    "rem,rev=0,0\n",
    "print(f\"User entered number is {n}\")\n",
    "while(n!=0):\n",
    "    rem=n%10\n",
    "    rev=rev*10+rem\n",
    "    n=n//10\n",
    "print(f\"Reversed Number is {rev}\")"
   ]
  },
  {
   "cell_type": "code",
   "execution_count": 34,
   "id": "9fcbd454-b7b9-4600-9102-f45e9ec04a35",
   "metadata": {},
   "outputs": [
    {
     "name": "stdout",
     "output_type": "stream",
     "text": [
      "['Java', 'C', 'Python', 'C++']\n",
      "['C++', 'Python', 'C', 'Java']\n",
      "['HTML', 'SQL', 'Javascript', 'CSS']\n",
      "['Java', 'C', 'Python', 'C++', 'HTML', 'SQL', 'Javascript', 'CSS', 'Dert', 'Golang']\n",
      "['Golang', 'Dert', 'CSS', 'Javascript', 'SQL', 'HTML', 'C++', 'Python', 'C', 'Java']\n"
     ]
    }
   ],
   "source": [
    "#SLICING \n",
    "lang=[\"Java\",\"C\",\"Python\",\"C++\",\"HTML\",\"SQL\",\"Javascript\",\"CSS\",\"Dert\",\"Golang\"]\n",
    "print(lang[:4])\n",
    "print(lang[3::-1])\n",
    "print(lang[4:8])\n",
    "print(lang[::])\n",
    "print(lang[::-1])\n",
    "\n"
   ]
  },
  {
   "cell_type": "code",
   "execution_count": 35,
   "id": "1cd9af76-7b70-4e23-8d3a-be5d1c47a44b",
   "metadata": {},
   "outputs": [
    {
     "name": "stdout",
     "output_type": "stream",
     "text": [
      "[1, 2, 3, 4, 5]\n"
     ]
    }
   ],
   "source": [
    "#SORT IN BUILT IN METHOD\n",
    "list=[5,2,3,4,1]\n",
    "list.sort()\n",
    "print(list)"
   ]
  },
  {
   "cell_type": "code",
   "execution_count": 41,
   "id": "223af447-2ccb-43bc-b08b-94a9f86ca42d",
   "metadata": {},
   "outputs": [
    {
     "name": "stdin",
     "output_type": "stream",
     "text": [
      "Enter the value : 4\n"
     ]
    },
    {
     "name": "stdout",
     "output_type": "stream",
     "text": [
      "1 4 9 16 "
     ]
    },
    {
     "data": {
      "text/plain": [
       "'#using while\\ni=1\\nwhile(i<=n):\\n    print(i*i)\\n    i+=1'"
      ]
     },
     "execution_count": 41,
     "metadata": {},
     "output_type": "execute_result"
    }
   ],
   "source": [
    "'''write a python program to print the square values\n",
    "of 1 to n using for loop and while loop'''\n",
    "\n",
    "\n",
    "n=int(input('Enter the value :'))\n",
    "for i in range(1,n+1):\n",
    "    print(i*i,end=\" \")\n",
    "'''#using while\n",
    "i=1\n",
    "while(i<=n):\n",
    "    print(i*i)\n",
    "    i+=1'''\n",
    "    "
   ]
  },
  {
   "cell_type": "code",
   "execution_count": 38,
   "id": "0727b713-3bd0-4cec-a599-1912dc5c9099",
   "metadata": {},
   "outputs": [
    {
     "name": "stdin",
     "output_type": "stream",
     "text": [
      "Enter the value of n: 6\n"
     ]
    },
    {
     "name": "stdout",
     "output_type": "stream",
     "text": [
      "Summation is21\n"
     ]
    }
   ],
   "source": [
    "'''write a python program to print the sum of \n",
    "natural numbers from 1 to n'''\n",
    "\n",
    "\n",
    "n=int(input('Enter the value of n:'))\n",
    "sum=0\n",
    "for i in range(1,n+1):\n",
    "    sum=sum+i\n",
    "print(f\"Summation is{sum}\")    "
   ]
  }
 ],
 "metadata": {
  "kernelspec": {
   "display_name": "Python 3 (ipykernel)",
   "language": "python",
   "name": "python3"
  },
  "language_info": {
   "codemirror_mode": {
    "name": "ipython",
    "version": 3
   },
   "file_extension": ".py",
   "mimetype": "text/x-python",
   "name": "python",
   "nbconvert_exporter": "python",
   "pygments_lexer": "ipython3",
   "version": "3.12.7"
  }
 },
 "nbformat": 4,
 "nbformat_minor": 5
}
